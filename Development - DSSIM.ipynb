{
 "cells": [
  {
   "cell_type": "code",
   "execution_count": 5,
   "id": "8f3ebd62-c2ee-4836-8ef2-e0b3553385e8",
   "metadata": {},
   "outputs": [],
   "source": [
    "!pip install -q scikit-learn scikit-image opencv-python"
   ]
  },
  {
   "cell_type": "code",
   "execution_count": 1,
   "id": "c31af98b-8ede-4953-b1ee-9f260f85bb2c",
   "metadata": {},
   "outputs": [],
   "source": [
    "# code taken from https://stackoverflow.com/questions/71567315/how-to-get-the-ssim-comparison-score-between-two-images\n",
    "from skimage.metrics import structural_similarity\n",
    "import cv2\n",
    "import numpy as np\n"
   ]
  },
  {
   "cell_type": "code",
   "execution_count": 2,
   "id": "70f40bdc-39db-45af-b0d6-8207a11a20cb",
   "metadata": {},
   "outputs": [],
   "source": [
    "sample_m4 = cv2.imread('sample-M4_Aggregation.jpg')\n",
    "sample_raw = cv2.imread('sample-Raw_Data.jpg')"
   ]
  },
  {
   "cell_type": "code",
   "execution_count": 3,
   "id": "cf38cebc-2fe5-4c9d-99f7-886bf7249f1e",
   "metadata": {},
   "outputs": [
    {
     "data": {
      "text/plain": [
       "(542, 989, 3)"
      ]
     },
     "execution_count": 3,
     "metadata": {},
     "output_type": "execute_result"
    }
   ],
   "source": [
    "sample_m4.shape"
   ]
  },
  {
   "cell_type": "code",
   "execution_count": 4,
   "id": "1f0bcf4e-e4f1-4f79-9175-00b16662f1a4",
   "metadata": {},
   "outputs": [
    {
     "data": {
      "text/plain": [
       "(542, 989, 3)"
      ]
     },
     "execution_count": 4,
     "metadata": {},
     "output_type": "execute_result"
    }
   ],
   "source": [
    "sample_raw.shape"
   ]
  },
  {
   "cell_type": "code",
   "execution_count": 5,
   "id": "1f71bb19-23ba-4d20-b53d-6262346eb0ef",
   "metadata": {},
   "outputs": [],
   "source": [
    "# Convert images to grayscale\n",
    "sample_m4_gray = cv2.cvtColor(sample_m4, cv2.COLOR_BGR2GRAY)\n",
    "sample_raw_gray = cv2.cvtColor(sample_raw, cv2.COLOR_BGR2GRAY)"
   ]
  },
  {
   "cell_type": "code",
   "execution_count": 6,
   "id": "1882d095-2e67-42a7-8b30-90c7a2176632",
   "metadata": {},
   "outputs": [
    {
     "name": "stdout",
     "output_type": "stream",
     "text": [
      "Image similarity 0.9929758728291539\n"
     ]
    }
   ],
   "source": [
    "# Compute SSIM between two images\n",
    "(score, diff) = structural_similarity(sample_m4_gray, sample_raw_gray, full=True)\n",
    "print(\"Image similarity\", score)\n",
    "\n",
    "# The diff image contains the actual image differences between the two images\n",
    "# and is represented as a floating point data type in the range [0,1] \n",
    "# so we must convert the array to 8-bit unsigned integers in the range\n",
    "# [0,255] before we can use it with OpenCV\n",
    "diff = (diff * 255).astype(\"uint8\")\n",
    "\n",
    "# Threshold the difference image, followed by finding contours to\n",
    "# obtain the regions of the two input images that differ\n",
    "thresh = cv2.threshold(diff, 0, 255, cv2.THRESH_BINARY_INV | cv2.THRESH_OTSU)[1]\n",
    "contours = cv2.findContours(thresh.copy(), cv2.RETR_EXTERNAL, cv2.CHAIN_APPROX_SIMPLE)\n",
    "contours = contours[0] if len(contours) == 2 else contours[1]\n",
    "\n",
    "mask = np.zeros(sample_m4.shape, dtype='uint8')\n",
    "filled_after = sample_raw.copy()\n",
    "\n",
    "# for c in contours:\n",
    "#     area = cv2.contourArea(c)\n",
    "#     if area > 40:\n",
    "#         x,y,w,h = cv2.boundingRect(c)\n",
    "#         cv2.rectangle(sample_m4, (x, y), (x + w, y + h), (36,255,12), 2)\n",
    "#         cv2.rectangle(sample_raw, (x, y), (x + w, y + h), (36,255,12), 2)\n",
    "#         cv2.drawContours(mask, [c], 0, (0,255,0), -1)\n",
    "#         cv2.drawContours(filled_after, [c], 0, (0,255,0), -1)\n",
    "\n",
    "# cv2.imshow('before', before)\n",
    "# cv2.imshow('after', after)\n",
    "# cv2.imshow('diff',diff)\n",
    "# cv2.imshow('mask',mask)\n",
    "# cv2.imshow('filled after',filled_after)\n",
    "# cv2.waitKey(0)"
   ]
  },
  {
   "cell_type": "code",
   "execution_count": null,
   "id": "327f45f8-3f15-4882-b09c-a0e377857ec7",
   "metadata": {},
   "outputs": [],
   "source": []
  }
 ],
 "metadata": {
  "kernelspec": {
   "display_name": "Python 3 (ipykernel)",
   "language": "python",
   "name": "python3"
  },
  "language_info": {
   "codemirror_mode": {
    "name": "ipython",
    "version": 3
   },
   "file_extension": ".py",
   "mimetype": "text/x-python",
   "name": "python",
   "nbconvert_exporter": "python",
   "pygments_lexer": "ipython3",
   "version": "3.10.13"
  }
 },
 "nbformat": 4,
 "nbformat_minor": 5
}
